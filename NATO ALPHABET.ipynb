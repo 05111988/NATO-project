{
 "cells": [
  {
   "cell_type": "code",
   "execution_count": 2,
   "id": "b2ef94de-e210-4e03-9ea1-56cad8578bbe",
   "metadata": {},
   "outputs": [
    {
     "name": "stdout",
     "output_type": "stream",
     "text": [
      "{'A': 'Alfa', 'B': 'Bravo', 'C': 'Charlie', 'D': 'Delta', 'E': 'Echo', 'F': 'Foxtrot', 'G': 'Golf', 'H': 'Hotel', 'I': 'India', 'J': 'Juliet', 'K': 'Kilo', 'L': 'Lima', 'M': 'Mike', 'N': 'November', 'O': 'Oscar', 'P': 'Papa', 'Q': 'Quebec', 'R': 'Romeo', 'S': 'Sierra', 'T': 'Tango', 'U': 'Uniform', 'V': 'Victor', 'W': 'Whiskey', 'X': 'X-ray', 'Y': 'Yankee', 'Z': 'Zulu'}\n"
     ]
    },
    {
     "name": "stdin",
     "output_type": "stream",
     "text": [
      "Enter a word:  alfa\n"
     ]
    },
    {
     "name": "stdout",
     "output_type": "stream",
     "text": [
      "['Alfa', 'Lima', 'Foxtrot', 'Alfa']\n"
     ]
    }
   ],
   "source": [
    "# Keyword Method with iterrows()\n",
    "# {new_key:new_value for (index, row) in df.iterrows()}\n",
    "\n",
    "import pandas\n",
    "\n",
    "data = pandas.read_csv(\"nato_phonetic_alphabet.csv\")\n",
    "#TODO 1. Create a dictionary in this format:\n",
    "phonetic_dict = {row.letter: row.code for (index, row) in data.iterrows()}\n",
    "print(phonetic_dict)\n",
    "\n",
    "#TODO 2. Create a list of the phonetic code words from a word that the user inputs.\n",
    "def generate_phonetic():\n",
    "    word = input(\"Enter a word: \").upper()\n",
    "    try:\n",
    "        output_list = [phonetic_dict[letter] for letter in word]\n",
    "    except KeyError:\n",
    "        print(\"Sorry, only letters in the alphabet please.\")\n",
    "        generate_phonetic()\n",
    "    else:\n",
    "        print(output_list)\n",
    "\n",
    "generate_phonetic()"
   ]
  },
  {
   "cell_type": "code",
   "execution_count": null,
   "id": "2bc5369e-0fa4-420e-a940-319cd391f4ff",
   "metadata": {},
   "outputs": [],
   "source": []
  }
 ],
 "metadata": {
  "kernelspec": {
   "display_name": "Python 3 (ipykernel)",
   "language": "python",
   "name": "python3"
  },
  "language_info": {
   "codemirror_mode": {
    "name": "ipython",
    "version": 3
   },
   "file_extension": ".py",
   "mimetype": "text/x-python",
   "name": "python",
   "nbconvert_exporter": "python",
   "pygments_lexer": "ipython3",
   "version": "3.13.3"
  }
 },
 "nbformat": 4,
 "nbformat_minor": 5
}
